{
 "cells": [
  {
   "cell_type": "markdown",
   "metadata": {},
   "source": [
    "Numpy"
   ]
  },
  {
   "cell_type": "markdown",
   "metadata": {},
   "source": [
    "- Create an array with shape (4, 3) of: a. all zeros b. ones c. numbers from 0 to 11"
   ]
  },
  {
   "cell_type": "code",
   "execution_count": null,
   "metadata": {},
   "outputs": [],
   "source": [
    "import numpy\n",
    "# all zeros\n",
    "zero_array = numpy.zeros((4, 3))\n",
    "print(zero_array)\n",
    "\n",
    "# all ones\n",
    "one_array = numpy.ones((4, 3))\n",
    "print(one_array)\n",
    "\n",
    "# numbers from 0 to 11\n",
    "numbers_array = numpy.arange(12).reshape(4, 3)\n",
    "print(numbers_array)\n"
   ]
  },
  {
   "cell_type": "markdown",
   "metadata": {},
   "source": [
    "- Tabulate the following function: F(x)=2x^2+5, x∈[1,100] with step 1."
   ]
  },
  {
   "cell_type": "code",
   "execution_count": null,
   "metadata": {},
   "outputs": [],
   "source": [
    "values_x = numpy.arange(1, 101)\n",
    "values_y= 2 * values_x ** 2 + 5\n",
    "for x, y in zip(values_x, values_y):\n",
    "    print(f'x: {x}, F(x): {y}')\n"
   ]
  },
  {
   "cell_type": "markdown",
   "metadata": {},
   "source": [
    "- Tabulate the following function: F(x)=e^−x, x∈[−10,10] with step 1"
   ]
  },
  {
   "cell_type": "code",
   "execution_count": null,
   "metadata": {},
   "outputs": [],
   "source": [
    "x_values = numpy.arange(-10, 11)\n",
    "y_values = numpy.exp(-x_values)\n",
    "for x, y in zip(x_values, y_values):\n",
    "    print(f'x: {x}, F(x): {y:.5f}')\n"
   ]
  },
  {
   "cell_type": "markdown",
   "metadata": {},
   "source": [
    "Pandas\n",
    "- Import the dataset from this address and assign it to df variable.\n",
    "- Select only the Team, Yellow Cards and Red Cards columns."
   ]
  },
  {
   "cell_type": "code",
   "execution_count": null,
   "metadata": {},
   "outputs": [],
   "source": [
    "import pandas\n",
    "import ssl\n",
    "ssl._create_default_https_context = ssl._create_unverified_context\n",
    "url = \"https://raw.githubusercontent.com/guipsamora/pandas_exercises/master/02_Filtering_%26_Sorting/Euro12/Euro_2012_stats_TEAM.csv\"\n",
    "df = pandas.read_csv(url)\n",
    "\n",
    "selected_columns = df[[\"Team\", \"Yellow Cards\", \"Red Cards\"]]\n",
    "print(selected_columns)\n",
    "\n"
   ]
  },
  {
   "cell_type": "markdown",
   "metadata": {},
   "source": [
    "- How many teams participated in the Euro2012?"
   ]
  },
  {
   "cell_type": "code",
   "execution_count": null,
   "metadata": {},
   "outputs": [],
   "source": [
    "number_of_teams = df[\"Team\"].nunique()\n",
    "print(f\"Numbers of teams: {number_of_teams}\")"
   ]
  },
  {
   "cell_type": "markdown",
   "metadata": {},
   "source": [
    "Filter teams that scored more than 6 goals"
   ]
  },
  {
   "cell_type": "code",
   "execution_count": null,
   "metadata": {},
   "outputs": [],
   "source": [
    "teams_scores_6_or_more = df[df['Goals'] > 6]\n",
    "print(teams_scores_6_or_more)\n"
   ]
  },
  {
   "cell_type": "markdown",
   "metadata": {},
   "source": [
    "seaborn.get_dataset_names()"
   ]
  },
  {
   "cell_type": "code",
   "execution_count": null,
   "metadata": {},
   "outputs": [],
   "source": [
    "import matplotlib.pyplot as plt\n",
    "import seaborn\n",
    "seaborn.get_dataset_names()\n",
    "\n",
    "df = seaborn.load_dataset('car_crashes', cache=True, data_home=None)\n",
    "# scatter plot\n",
    "seaborn.scatterplot(x='total', y='alcohol', data=df)\n",
    "plt.show()"
   ]
  },
  {
   "cell_type": "code",
   "execution_count": null,
   "metadata": {},
   "outputs": [],
   "source": [
    "#Box Plot\n",
    "seaborn.boxplot(x='abbrev', y='total', data=df)\n",
    "plt.show()\n"
   ]
  },
  {
   "cell_type": "code",
   "execution_count": null,
   "metadata": {},
   "outputs": [],
   "source": [
    "#Violin Plot\n",
    "seaborn.violinplot(x='alcohol', y='total', data=df)\n",
    "plt.show()\n"
   ]
  },
  {
   "cell_type": "code",
   "execution_count": null,
   "metadata": {},
   "outputs": [],
   "source": [
    "#Histogram\n",
    "seaborn.histplot(df['total'], kde=True)\n",
    "plt.show()\n"
   ]
  },
  {
   "cell_type": "code",
   "execution_count": null,
   "metadata": {},
   "outputs": [],
   "source": [
    " #Bar Plot\n",
    "seaborn.barplot(x='alcohol', y='total', data=df)\n",
    "plt.show()\n"
   ]
  },
  {
   "cell_type": "code",
   "execution_count": null,
   "metadata": {},
   "outputs": [],
   "source": [
    "#Line Plot\n",
    "seaborn.lineplot(data=df, x='abbrev', y='total')\n",
    "plt.show()\n"
   ]
  }
 ],
 "metadata": {
  "kernelspec": {
   "display_name": "Python 3",
   "language": "python",
   "name": "python3"
  },
  "language_info": {
   "codemirror_mode": {
    "name": "ipython",
    "version": 3
   },
   "file_extension": ".py",
   "mimetype": "text/x-python",
   "name": "python",
   "nbconvert_exporter": "python",
   "pygments_lexer": "ipython3",
   "version": "3.11.4"
  },
  "orig_nbformat": 4
 },
 "nbformat": 4,
 "nbformat_minor": 2
}
